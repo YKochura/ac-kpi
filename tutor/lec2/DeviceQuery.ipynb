{
  "nbformat": 4,
  "nbformat_minor": 0,
  "metadata": {
    "colab": {
      "name": "DeviceQuery.ipynb",
      "provenance": [],
      "collapsed_sections": []
    },
    "kernelspec": {
      "name": "python3",
      "display_name": "Python 3"
    },
    "language_info": {
      "name": "python"
    },
    "accelerator": "GPU"
  },
  "cells": [
    {
      "cell_type": "markdown",
      "source": [
        "<a href=\"https://colab.research.google.com/github/YKochura/ac-kpi/blob/main/tutor/lec2/DeviceQuery.ipynb\" target=\"_parent\"><img src=\"https://colab.research.google.com/assets/colab-badge.svg\" alt=\"Open In Colab\"/></a>"
      ],
      "metadata": {
        "id": "l-7VOttmrdQX"
      }
    },
    {
      "cell_type": "markdown",
      "metadata": {
        "id": "2WkOA4mcN7Hj"
      },
      "source": [
        "# Запит пристрою "
      ]
    },
    {
      "cell_type": "code",
      "source": [
        "!nvidia-smi"
      ],
      "metadata": {
        "colab": {
          "base_uri": "https://localhost:8080/"
        },
        "id": "YrBsRcv5qOJ7",
        "outputId": "e01b5f14-7cd5-40e4-b921-a20f05d52184"
      },
      "execution_count": 17,
      "outputs": [
        {
          "output_type": "stream",
          "name": "stdout",
          "text": [
            "Tue Feb 15 18:33:36 2022       \n",
            "+-----------------------------------------------------------------------------+\n",
            "| NVIDIA-SMI 460.32.03    Driver Version: 460.32.03    CUDA Version: 11.2     |\n",
            "|-------------------------------+----------------------+----------------------+\n",
            "| GPU  Name        Persistence-M| Bus-Id        Disp.A | Volatile Uncorr. ECC |\n",
            "| Fan  Temp  Perf  Pwr:Usage/Cap|         Memory-Usage | GPU-Util  Compute M. |\n",
            "|                               |                      |               MIG M. |\n",
            "|===============================+======================+======================|\n",
            "|   0  Tesla K80           Off  | 00000000:00:04.0 Off |                    0 |\n",
            "| N/A   32C    P8    25W / 149W |      0MiB / 11441MiB |      0%      Default |\n",
            "|                               |                      |                  N/A |\n",
            "+-------------------------------+----------------------+----------------------+\n",
            "                                                                               \n",
            "+-----------------------------------------------------------------------------+\n",
            "| Processes:                                                                  |\n",
            "|  GPU   GI   CI        PID   Type   Process name                  GPU Memory |\n",
            "|        ID   ID                                                   Usage      |\n",
            "|=============================================================================|\n",
            "|  No running processes found                                                 |\n",
            "+-----------------------------------------------------------------------------+\n"
          ]
        }
      ]
    },
    {
      "cell_type": "code",
      "source": [
        "%%writefile test.cu\n",
        "// https://docs.nvidia.com/cuda/cuda-runtime-api/structcudaDeviceProp.html#structcudaDeviceProp_150d477d8d5d3a04e0785f469277c65bb\n",
        "\n",
        "#include <stdio.h> \n",
        "\n",
        "int main() {\n",
        "  int nDevices;\n",
        "\n",
        "  cudaGetDeviceCount(&nDevices);\n",
        "  for (int i = 0; i < nDevices; i++) {\n",
        "    cudaDeviceProp prop;\n",
        "    cudaGetDeviceProperties(&prop, i);\n",
        "    printf(\"Device Number: %d\\n\", i);\n",
        "    printf(\"  Device name: %s\\n\", prop.name);\n",
        "    printf(\"  Memory Clock Rate (KHz): %d\\n\",\n",
        "           prop.memoryClockRate);\n",
        "    printf(\"  Memory Bus Width (bits): %d\\n\",\n",
        "           prop.memoryBusWidth);\n",
        "    printf(\"  Peak Memory Bandwidth (GB/s): %f\\n\",\n",
        "           2.0*prop.memoryClockRate*(prop.memoryBusWidth/8)/1.0e6);\n",
        "    printf(\"  Warp size in threads : %d\\n\",\n",
        "           prop.warpSize);\n",
        "    printf(\"  Number of multiprocessors on device : %d\\n\",\n",
        "           prop.multiProcessorCount);\n",
        "    printf(\"  Major compute capability : %d\\n\",\n",
        "           prop.major);\n",
        "    printf(\"  Minor compute capability : %d\\n\",\n",
        "           prop.minor);\n",
        "    printf(\"  Number of cuda cores : %d\\n\",\n",
        "           prop.multiProcessorCount * 64);\n",
        "\n",
        "    printf(\"  Global memory available on device in GB : %lu\\n\", \n",
        "           prop.totalGlobalMem / (1024 * 1024 *1024));\n",
        "   printf(\"  Maximum number of threads per block : %d\\n\\n\", \n",
        "           prop.maxThreadsPerBlock);\n",
        "\n",
        "  }\n",
        "}"
      ],
      "metadata": {
        "id": "7VY-ix-7hsIP",
        "outputId": "f36949de-a814-46e5-ccb6-da7b3ba295be",
        "colab": {
          "base_uri": "https://localhost:8080/"
        }
      },
      "execution_count": 18,
      "outputs": [
        {
          "output_type": "stream",
          "name": "stdout",
          "text": [
            "Overwriting test.cu\n"
          ]
        }
      ]
    },
    {
      "cell_type": "code",
      "source": [
        "%%shell\n",
        "\n",
        "nvcc test.cu -o test\n",
        "./test"
      ],
      "metadata": {
        "id": "ZBNiFkEmkPIX",
        "outputId": "5b733326-52ea-45df-cd9a-c7a977f45620",
        "colab": {
          "base_uri": "https://localhost:8080/"
        }
      },
      "execution_count": 19,
      "outputs": [
        {
          "output_type": "stream",
          "name": "stdout",
          "text": [
            "Device Number: 0\n",
            "  Device name: Tesla K80\n",
            "  Memory Clock Rate (KHz): 2505000\n",
            "  Memory Bus Width (bits): 384\n",
            "  Peak Memory Bandwidth (GB/s): 240.480000\n",
            "  Warp size in threads : 32\n",
            "  Number of multiprocessors on device : 13\n",
            "  Major compute capability : 3\n",
            "  Minor compute capability : 7\n",
            "  Number of cuda cores : 832\n",
            "  Global memory available on device in GB : 11\n",
            "  Maximum number of threads per block : 1024\n",
            "\n"
          ]
        },
        {
          "output_type": "execute_result",
          "data": {
            "text/plain": [
              ""
            ]
          },
          "metadata": {},
          "execution_count": 19
        }
      ]
    },
    {
      "cell_type": "code",
      "source": [
        ""
      ],
      "metadata": {
        "id": "rRA4a_5eqnjX"
      },
      "execution_count": null,
      "outputs": []
    }
  ]
}