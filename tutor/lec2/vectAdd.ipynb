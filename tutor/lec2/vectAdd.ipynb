{
  "nbformat": 4,
  "nbformat_minor": 0,
  "metadata": {
    "colab": {
      "name": "vectAdd.ipynb",
      "provenance": [],
      "collapsed_sections": []
    },
    "kernelspec": {
      "name": "python3",
      "display_name": "Python 3"
    },
    "language_info": {
      "name": "python"
    }
  },
  "cells": [
    {
      "cell_type": "markdown",
      "source": [
        "<a href=\"https://colab.research.google.com/github/YKochura/ac-kpi/blob/main/tutor/lec2/vectAdd.ipynb\" target=\"_parent\"><img src=\"https://colab.research.google.com/assets/colab-badge.svg\" alt=\"Open In Colab\"/></a>"
      ],
      "metadata": {
        "id": "-Kfit_C_xeNW"
      }
    },
    {
      "cell_type": "code",
      "execution_count": null,
      "metadata": {
        "colab": {
          "base_uri": "https://localhost:8080/"
        },
        "id": "17rHbL-kPMht",
        "outputId": "d2c042db-2a59-4d80-82e7-68d6e5a3f7ac"
      },
      "outputs": [
        {
          "output_type": "stream",
          "name": "stdout",
          "text": [
            "Keras-Preprocessing           1.1.2\n"
          ]
        }
      ],
      "source": [
        "!pip list | grep Keras\n"
      ]
    },
    {
      "cell_type": "code",
      "source": [
        "!pip list | grep tensorflow"
      ],
      "metadata": {
        "colab": {
          "base_uri": "https://localhost:8080/"
        },
        "id": "SELsWFRbPpQG",
        "outputId": "c548efdc-ccdc-4348-9fa4-179227b317b5"
      },
      "execution_count": null,
      "outputs": [
        {
          "output_type": "stream",
          "name": "stdout",
          "text": [
            "tensorflow                    2.7.0\n",
            "tensorflow-datasets           4.0.1\n",
            "tensorflow-estimator          2.7.0\n",
            "tensorflow-gcs-config         2.7.0\n",
            "tensorflow-hub                0.12.0\n",
            "tensorflow-io-gcs-filesystem  0.24.0\n",
            "tensorflow-metadata           1.6.0\n",
            "tensorflow-probability        0.15.0\n"
          ]
        }
      ]
    },
    {
      "cell_type": "code",
      "source": [
        "!cat /usr/include/cudnn.h | grep CUDNN_MAJOR -A 2"
      ],
      "metadata": {
        "colab": {
          "base_uri": "https://localhost:8080/"
        },
        "id": "EQaYQrupPPxb",
        "outputId": "23c05974-82bc-45da-8f53-1eab61ca9552"
      },
      "execution_count": null,
      "outputs": [
        {
          "output_type": "stream",
          "name": "stdout",
          "text": [
            "#define CUDNN_MAJOR 7\n",
            "#define CUDNN_MINOR 6\n",
            "#define CUDNN_PATCHLEVEL 5\n",
            "--\n",
            "#define CUDNN_VERSION (CUDNN_MAJOR * 1000 + CUDNN_MINOR * 100 + CUDNN_PATCHLEVEL)\n",
            "\n",
            "#include \"driver_types.h\"\n"
          ]
        }
      ]
    },
    {
      "cell_type": "code",
      "source": [
        "import tensorflow as tf\n",
        "tf.test.is_built_with_cuda()"
      ],
      "metadata": {
        "colab": {
          "base_uri": "https://localhost:8080/"
        },
        "id": "rlPsmiDVPbR0",
        "outputId": "01af59cb-d9c5-4f0e-8567-40554250912e"
      },
      "execution_count": null,
      "outputs": [
        {
          "output_type": "execute_result",
          "data": {
            "text/plain": [
              "True"
            ]
          },
          "metadata": {},
          "execution_count": 4
        }
      ]
    },
    {
      "cell_type": "code",
      "source": [
        "%%writefile vecAdd.c\n",
        "\n",
        "#include <stdio.h>\n",
        "#include <stdlib.h>\n",
        "\n",
        "void initWith(float num, float *a, int n)\n",
        "{\n",
        "  for(int i = 0; i < n; ++i)\n",
        "  {\n",
        "    a[i] = num;\n",
        "  }\n",
        "}\n",
        "\n",
        "void addVectorsInto(float *result, float *a, float *b, int n)\n",
        "{\n",
        "  for(int i = 0; i < n; ++i)\n",
        "  {\n",
        "    result[i] = a[i] + b[i];\n",
        "  }\n",
        "}\n",
        "\n",
        "void checkElementsAre(float target, float *array, int n)\n",
        "{\n",
        "  for(int i = 0; i < n; i++)\n",
        "  {\n",
        "    if(array[i] != target)\n",
        "    {\n",
        "      printf(\"FAIL: array[%d] - %0.0f does not equal %0.0f\\n\", i, array[i], target);\n",
        "      exit(1);\n",
        "    }\n",
        "  }\n",
        "  printf(\"SUCCESS! All values added correctly.\\n\");\n",
        "}\n",
        "\n",
        "int main()\n",
        "{\n",
        "  // https://www.geeksforgeeks.org/left-shift-right-shift-operators-c-cpp/\n",
        "  const int N = 2<<20;\n",
        "  size_t size = N * sizeof(float);\n",
        "\n",
        "  float *a;\n",
        "  float *b;\n",
        "  float *c;\n",
        "\n",
        "  a = (float *)malloc(size);\n",
        "  b = (float *)malloc(size);\n",
        "  c = (float *)malloc(size);\n",
        "\n",
        "  initWith(3, a, N);\n",
        "  initWith(4, b, N);\n",
        "  initWith(0, c, N);\n",
        "\n",
        "  addVectorsInto(c, a, b, N);\n",
        "\n",
        "  checkElementsAre(7, c, N);\n",
        "\n",
        "  free(a);\n",
        "  free(b);\n",
        "  free(c);\n",
        "}"
      ],
      "metadata": {
        "colab": {
          "base_uri": "https://localhost:8080/"
        },
        "id": "sD4WbICdPx8h",
        "outputId": "23a5dcb2-db04-4086-ff61-1411ff39ae76"
      },
      "execution_count": null,
      "outputs": [
        {
          "output_type": "stream",
          "name": "stdout",
          "text": [
            "Writing vecAdd.c\n"
          ]
        }
      ]
    },
    {
      "cell_type": "code",
      "source": [
        "%%shell\n",
        "\n",
        "gcc vecAdd.c -o vecAdd\n",
        "./vecAdd"
      ],
      "metadata": {
        "colab": {
          "base_uri": "https://localhost:8080/"
        },
        "id": "kRVkiPZZ5KWV",
        "outputId": "6eaaae78-eec8-4d6f-c053-64b0659e7e62"
      },
      "execution_count": null,
      "outputs": [
        {
          "output_type": "stream",
          "name": "stdout",
          "text": [
            "SUCCESS! All values added correctly.\n"
          ]
        },
        {
          "output_type": "execute_result",
          "data": {
            "text/plain": [
              ""
            ]
          },
          "metadata": {},
          "execution_count": 2
        }
      ]
    },
    {
      "cell_type": "markdown",
      "source": [
        "## GPU"
      ],
      "metadata": {
        "id": "l3IX-0xNAgYo"
      }
    },
    {
      "cell_type": "code",
      "source": [
        "%%writefile vecAdd.cu\n",
        "\n",
        "#include <stdio.h>\n",
        "#include <assert.h>\n",
        "\n",
        "inline cudaError_t checkCuda(cudaError_t result)\n",
        "{\n",
        "  if (result != cudaSuccess) {\n",
        "    fprintf(stderr, \"CUDA Runtime Error: %s\\n\", cudaGetErrorString(result));\n",
        "    assert(result == cudaSuccess);\n",
        "  }\n",
        "  return result;\n",
        "}\n",
        "\n",
        "void initWith(float num, float *a, int n)\n",
        "{\n",
        "  for(int i = 0; i < n; ++i)\n",
        "  {\n",
        "    a[i] = num;\n",
        "  }\n",
        "}\n",
        "\n",
        "__global__\n",
        "void addVectorsInto(float *result, float *a, float *b, int n)\n",
        "{\n",
        "  int index = threadIdx.x + blockIdx.x * blockDim.x;\n",
        "  int stride = blockDim.x * gridDim.x;\n",
        "\n",
        "  for(int i = index; i < n; i += stride)\n",
        "  {\n",
        "    result[i] = a[i] + b[i];\n",
        "  }\n",
        "}\n",
        "\n",
        "void checkElementsAre(float target, float *array, int n)\n",
        "{\n",
        "  for(int i = 0; i < n; i++)\n",
        "  {\n",
        "    if(array[i] != target)\n",
        "    {\n",
        "      printf(\"FAIL: array[%d] - %0.0f does not equal %0.0f\\n\", i, array[i], target);\n",
        "      exit(1);\n",
        "    }\n",
        "  }\n",
        "  printf(\"SUCCESS! All values added correctly.\\n\");\n",
        "}\n",
        "\n",
        "int main()\n",
        "{\n",
        "  const int N = 2<<20;\n",
        "  size_t size = N * sizeof(float);\n",
        "\n",
        "  float *a;\n",
        "  float *b;\n",
        "  float *c;\n",
        "\n",
        "  checkCuda( cudaMallocManaged(&a, size) );\n",
        "  checkCuda( cudaMallocManaged(&b, size) );\n",
        "  checkCuda( cudaMallocManaged(&c, size) );\n",
        "\n",
        "  initWith(3, a, N);\n",
        "  initWith(4, b, N);\n",
        "  initWith(0, c, N);\n",
        "\n",
        "  size_t threadsPerBlock;\n",
        "  size_t numberOfBlocks;\n",
        "\n",
        "  threadsPerBlock = 256;\n",
        "  numberOfBlocks = (N + threadsPerBlock - 1) / threadsPerBlock;\n",
        "\n",
        "  addVectorsInto<<<numberOfBlocks, threadsPerBlock>>>(c, a, b, N);\n",
        "\n",
        "  checkCuda( cudaGetLastError() );\n",
        "  checkCuda( cudaDeviceSynchronize() );\n",
        "\n",
        "  checkElementsAre(7, c, N);\n",
        "\n",
        "  checkCuda( cudaFree(a) );\n",
        "  checkCuda( cudaFree(b) );\n",
        "  checkCuda( cudaFree(c) );\n",
        "}"
      ],
      "metadata": {
        "colab": {
          "base_uri": "https://localhost:8080/"
        },
        "id": "0IyFZ_rr6F3o",
        "outputId": "604c1e8a-925f-4aa7-f5a3-260611ad5b1e"
      },
      "execution_count": null,
      "outputs": [
        {
          "output_type": "stream",
          "name": "stdout",
          "text": [
            "Writing vecAdd.cu\n"
          ]
        }
      ]
    },
    {
      "cell_type": "code",
      "source": [
        "%%shell\n",
        "\n",
        "nvcc vecAdd.cu -o vecAddKernel\n",
        "nvprof ./vecAddKernel"
      ],
      "metadata": {
        "colab": {
          "base_uri": "https://localhost:8080/"
        },
        "id": "LVQ9QzzxApip",
        "outputId": "e1ecbe4b-9341-4684-8840-ca72e4150512"
      },
      "execution_count": null,
      "outputs": [
        {
          "output_type": "stream",
          "name": "stdout",
          "text": [
            "==181== NVPROF is profiling process 181, command: ./vecAddKernel\n",
            "SUCCESS! All values added correctly.\n",
            "==181== Profiling application: ./vecAddKernel\n",
            "==181== Profiling result:\n",
            "            Type  Time(%)      Time     Calls       Avg       Min       Max  Name\n",
            " GPU activities:  100.00%  9.2349ms         1  9.2349ms  9.2349ms  9.2349ms  addVectorsInto(float*, float*, float*, int)\n",
            "      API calls:   97.06%  421.00ms         3  140.33ms  9.8920us  420.95ms  cudaMallocManaged\n",
            "                    2.13%  9.2446ms         1  9.2446ms  9.2446ms  9.2446ms  cudaDeviceSynchronize\n",
            "                    0.51%  2.1943ms         3  731.43us  474.00us  1.1654ms  cudaFree\n",
            "                    0.15%  666.49us         1  666.49us  666.49us  666.49us  cuDeviceGetPCIBusId\n",
            "                    0.08%  357.71us         1  357.71us  357.71us  357.71us  cuDeviceTotalMem\n",
            "                    0.04%  187.23us       101  1.8530us     138ns  75.473us  cuDeviceGetAttribute\n",
            "                    0.01%  53.108us         1  53.108us  53.108us  53.108us  cudaLaunchKernel\n",
            "                    0.01%  27.835us         1  27.835us  27.835us  27.835us  cuDeviceGetName\n",
            "                    0.00%  1.6630us         3     554ns     215ns     993ns  cuDeviceGetCount\n",
            "                    0.00%  1.5780us         2     789ns     280ns  1.2980us  cuDeviceGet\n",
            "                    0.00%     475ns         1     475ns     475ns     475ns  cudaGetLastError\n",
            "                    0.00%     399ns         1     399ns     399ns     399ns  cuDeviceGetUuid\n",
            "\n",
            "==181== Unified Memory profiling result:\n",
            "Device \"Tesla T4 (0)\"\n",
            "   Count  Avg Size  Min Size  Max Size  Total Size  Total Time  Name\n",
            "     379  64.844KB  4.0000KB  0.9922MB  24.00000MB  3.118598ms  Host To Device\n",
            "      48  170.67KB  4.0000KB  0.9961MB  8.000000MB  723.5150us  Device To Host\n",
            "      41         -         -         -           -  9.652721ms  Gpu page fault groups\n",
            "Total CPU Page faults: 96\n"
          ]
        },
        {
          "output_type": "execute_result",
          "data": {
            "text/plain": [
              ""
            ]
          },
          "metadata": {},
          "execution_count": 2
        }
      ]
    },
    {
      "cell_type": "code",
      "source": [
        ""
      ],
      "metadata": {
        "id": "02jJShvmA29C"
      },
      "execution_count": null,
      "outputs": []
    }
  ]
}